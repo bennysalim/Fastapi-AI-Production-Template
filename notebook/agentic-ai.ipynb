{
 "cells": [
  {
   "cell_type": "code",
   "execution_count": 7,
   "id": "77b52fe5",
   "metadata": {},
   "outputs": [
    {
     "name": "stdout",
     "output_type": "stream",
     "text": [
      "As I lay in bed, I couldn't shake the feeling that someone was watching me from the shadows. It wasn't until I heard my own voice whisper \"goodnight\" back to me that I realized I wasn't alone.\n"
     ]
    }
   ],
   "source": [
    "from phi.agent import Agent, RunResponse\n",
    "from phi.model.groq import Groq\n",
    "\n",
    "agent = Agent(\n",
    "    model=Groq(id=\"llama-3.3-70b-versatile\"),\n",
    "    markdown=True\n",
    ")\n",
    "\n",
    "# Get the response in a variable\n",
    "run: RunResponse = agent.run(\"Share a 2 sentence horror story.\")\n",
    "print(run.content)"
   ]
  }
 ],
 "metadata": {
  "kernelspec": {
   "display_name": "Python 3",
   "language": "python",
   "name": "python3"
  },
  "language_info": {
   "codemirror_mode": {
    "name": "ipython",
    "version": 3
   },
   "file_extension": ".py",
   "mimetype": "text/x-python",
   "name": "python",
   "nbconvert_exporter": "python",
   "pygments_lexer": "ipython3",
   "version": "3.12.9"
  }
 },
 "nbformat": 4,
 "nbformat_minor": 5
}
